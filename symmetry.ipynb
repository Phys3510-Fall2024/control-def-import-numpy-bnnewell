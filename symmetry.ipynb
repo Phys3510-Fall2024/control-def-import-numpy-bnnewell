{
 "cells": [
  {
   "cell_type": "code",
   "execution_count": 2,
   "id": "012f7865-d8ef-48d0-a7e6-cadd37d60fba",
   "metadata": {},
   "outputs": [],
   "source": [
    "import numpy as np"
   ]
  },
  {
   "cell_type": "code",
   "execution_count": 20,
   "id": "01cccec1-34ab-4ce4-965c-03b995bca8d1",
   "metadata": {},
   "outputs": [
    {
     "name": "stdout",
     "output_type": "stream",
     "text": [
      "1\n",
      "-1\n",
      "[ 0  0 -1]\n",
      "[ 0  0 -1]\n"
     ]
    }
   ],
   "source": [
    "\n",
    "a = [1, 0, 0]\n",
    "b = [0, 1, 0]\n",
    "c = [0, 0, 1]\n",
    "\n",
    "scalar = np.dot(a, b)                                           # dot product\n",
    "pseudoscalar =  np.dot(c, np.cross(a, b))                       # scalar triple product\n",
    "polar_vector = c                                                # no operation\n",
    "axialpseudovector = np.cross(a, b)                              # cross product\n",
    "\n",
    "identity = np.array(\n",
    "         [[ 1, 0, 0]\n",
    "         ,[ 0, 1, 0]\n",
    "         ,[ 0, 0, 1]]\n",
    "\n",
    ")\n",
    "\n",
    "\n",
    "\n",
    "\n",
    "inversion = np.array(\n",
    "               [[-1,  0,  0]\n",
    "               ,[ 0, -1,  0]\n",
    "               ,[ 0,  0, -1]]\n",
    ")\n",
    "\n",
    "mirror_z = np.array(\n",
    "         [[ 1, 0, 0]                 #when there is a mirror on the xy plain the only change that should take place is the derection of z\n",
    "         ,[ 0, 1, 0]\n",
    "         ,[ 0, 0, -1]]\n",
    "\n",
    ")\n",
    "\n",
    "mirror_x =  np.array(\n",
    "         [[ -1, 0, 0]\n",
    "         ,[ 0, 1, 0]\n",
    "         ,[ 0, 0, 1]]\n",
    "\n",
    ")\n",
    "\n",
    "\n",
    "mirror_y =  np.array(\n",
    "         [[ 1, 0, 0]\n",
    "         ,[ 0, -1, 0]\n",
    "         ,[ 0, 0, 1]]\n",
    "\n",
    ")\n",
    "\n",
    "\n",
    "\n",
    "rotation_x_180 = np.array(\n",
    "         [[ 1, 0, 0]\n",
    "         ,[ 0, -1, 0]\n",
    "         ,[ 0, 0, -1]]\n",
    "\n",
    ")\n",
    "\n",
    "#by swaping the words in the functions below for the other vecter it will give all the information needed\n",
    "\n",
    "id_scalar = np.dot(mirror_y @ c, mirror_y @ c)\n",
    "id_pseudo_scalar = np.dot(mirror_y @ c, np.cross(mirror_y @ a, mirror_y @ b))\n",
    "id_polar_vec = rotation_x_180 @ c\n",
    "id_axial_vec = np.cross(mirror_y @ a, mirror_y @ b)\n",
    "\n",
    "print( id_scalar)\n",
    "print( id_pseudo_scalar)\n",
    "print( id_polar_vec)\n",
    "print( id_axial_vec) \n"
   ]
  },
  {
   "cell_type": "markdown",
   "id": "c976efca-e702-415d-89fd-3d8520a75eec",
   "metadata": {},
   "source": [
    "| 1D object    | identity | inversion | mirror_z | mirror_y | rotation_x_180 |\n",
    "|--------------|----------|-----------|----------|----------|----------------|\n",
    "| scalar       | 1        | 1         | 1        | 1        | 1              |\n",
    "| pseudoscalar | 1        |-1         |-1        |-1        | 1              |\n",
    "| polar vector | 1        |-1         |-1        |-1        |-1              |\n",
    "| axial vector | 1        | 1         | 1        |-1        |-1              |\n",
    "\n"
   ]
  },
  {
   "cell_type": "code",
   "execution_count": null,
   "id": "ef894aaf-4a41-40cb-8669-904b73bcec89",
   "metadata": {},
   "outputs": [],
   "source": []
  }
 ],
 "metadata": {
  "kernelspec": {
   "display_name": "Python 3 (ipykernel)",
   "language": "python",
   "name": "python3"
  },
  "language_info": {
   "codemirror_mode": {
    "name": "ipython",
    "version": 3
   },
   "file_extension": ".py",
   "mimetype": "text/x-python",
   "name": "python",
   "nbconvert_exporter": "python",
   "pygments_lexer": "ipython3",
   "version": "3.9.19"
  }
 },
 "nbformat": 4,
 "nbformat_minor": 5
}
