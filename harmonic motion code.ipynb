{
 "cells": [
  {
   "cell_type": "markdown",
   "id": "05de82f2-4d3a-45a3-a35e-13318a073687",
   "metadata": {},
   "source": [
    "## harmonics time (⌐■_■)\n",
    "\n",
    "we must find the potental energy of u = 1/2 kx^2\n",
    "and F = -kx=ma=mx(secand derivitive)"
   ]
  },
  {
   "cell_type": "code",
   "execution_count": 8,
   "id": "19260c6c-adef-4fc7-ae66-a693c232db97",
   "metadata": {},
   "outputs": [],
   "source": [
    "#improt of math library\n",
    "import math\n",
    "\n",
    "\n",
    "def harmonic_motion (t,omega,x0,v0):\n",
    "    \"\"\"\n",
    "    imputs:\n",
    "    t :time in seconds\n",
    "    omega: res frequency\n",
    "    \n",
    "\n",
    "    \n",
    "    \"\"\"\n",
    "    #position as a function of time\n",
    "    x= x0 * math.cos(omega * t) + (v0/omega) * math.sin(omega * t)\n",
    "\n",
    "    #volocity as a time\n",
    "\n",
    "    v= - omega * x0 * math.sin(omega * t) + v0 * math.cos(omega * t)\n",
    "    return x,v"
   ]
  },
  {
   "cell_type": "code",
   "execution_count": 11,
   "id": "662fc408-7994-45b7-9f03-6fabf47c2904",
   "metadata": {},
   "outputs": [
    {
     "data": {
      "text/plain": [
       "[-2.0000000000000004, -3.0999999999999996]"
      ]
     },
     "execution_count": 11,
     "metadata": {},
     "output_type": "execute_result"
    }
   ],
   "source": [
    "#testing the function\n",
    "time = 1*math.pi/omega #secands\n",
    "omega = 1 #units.....i guess\n",
    "init_positon = 3.1 #initial position? uhhhh yeah... I sure hope it does\n",
    "init_volocity = 2.0 #im sure we will add the units one day....right?\n",
    "position, velocity = harmonic_motion(time,omega, init_positon, init_volocity)\n",
    "[velocity, position]"
   ]
  },
  {
   "cell_type": "code",
   "execution_count": null,
   "id": "6e703258-7a4f-4a9f-a9ac-197784d5ebe4",
   "metadata": {},
   "outputs": [],
   "source": []
  }
 ],
 "metadata": {
  "kernelspec": {
   "display_name": "Python 3 (ipykernel)",
   "language": "python",
   "name": "python3"
  },
  "language_info": {
   "codemirror_mode": {
    "name": "ipython",
    "version": 3
   },
   "file_extension": ".py",
   "mimetype": "text/x-python",
   "name": "python",
   "nbconvert_exporter": "python",
   "pygments_lexer": "ipython3",
   "version": "3.9.19"
  }
 },
 "nbformat": 4,
 "nbformat_minor": 5
}
